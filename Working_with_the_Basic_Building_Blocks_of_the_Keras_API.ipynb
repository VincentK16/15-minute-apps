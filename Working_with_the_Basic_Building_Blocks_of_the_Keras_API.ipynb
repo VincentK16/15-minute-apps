{
  "nbformat": 4,
  "nbformat_minor": 0,
  "metadata": {
    "colab": {
      "name": "Working with the Basic Building Blocks of the Keras API.ipynb",
      "provenance": [],
      "authorship_tag": "ABX9TyNZ3535qrHYK147DezfiaB/",
      "include_colab_link": true
    },
    "kernelspec": {
      "name": "python3",
      "display_name": "Python 3"
    }
  },
  "cells": [
    {
      "cell_type": "markdown",
      "metadata": {
        "id": "view-in-github",
        "colab_type": "text"
      },
      "source": [
        "<a href=\"https://colab.research.google.com/github/VincentK16/15-minute-apps/blob/master/Working_with_the_Basic_Building_Blocks_of_the_Keras_API.ipynb\" target=\"_parent\"><img src=\"https://colab.research.google.com/assets/colab-badge.svg\" alt=\"Open In Colab\"/></a>"
      ]
    },
    {
      "cell_type": "code",
      "metadata": {
        "id": "NOJei8t7O0AN",
        "colab_type": "code",
        "colab": {}
      },
      "source": [
        "from sklearn.model_selection import train_test_split \n",
        "from sklearn.preprocessing import LabelBinarizer \n",
        "from tensorflow.keras import Input \n",
        "from tensorflow.keras.datasets import mnist \n",
        "from tensorflow.keras.layers import Dense \n",
        "from tensorflow.keras.models import Model \n",
        "from tensorflow.keras.models import Sequential"
      ],
      "execution_count": 2,
      "outputs": []
    },
    {
      "cell_type": "code",
      "metadata": {
        "id": "heB1liYuPOsp",
        "colab_type": "code",
        "colab": {}
      },
      "source": [
        "layers = [Dense(256, input_shape=(28 * 28 * 1,), activation='sigmoid'), Dense(128, activation='sigmoid'), Dense(10, activation='softmax')] \n",
        "sequential_model_list = Sequential(layers)"
      ],
      "execution_count": 4,
      "outputs": []
    },
    {
      "cell_type": "code",
      "metadata": {
        "id": "HqqnZQChPZRw",
        "colab_type": "code",
        "colab": {}
      },
      "source": [
        "sequential_model = Sequential() \n",
        "sequential_model.add(Dense(256, input_shape=(28 * 28 * 1,), activation='sigmoid')) \n",
        "sequential_model.add(Dense(128, activation='sigmoid')) \n",
        "sequential_model.add(Dense(10, activation='softmax'))"
      ],
      "execution_count": 6,
      "outputs": []
    },
    {
      "cell_type": "code",
      "metadata": {
        "id": "cMNXw68APjPa",
        "colab_type": "code",
        "colab": {}
      },
      "source": [
        "input_layer = Input(shape=(28 * 28 * 1,)) \n",
        "dense_1 = Dense(256, activation='sigmoid')(input_layer) \n",
        "dense_2 = Dense(128, activation='sigmoid')(dense_1) \n",
        "predictions = Dense(10, activation='softmax')(dense_2) \n",
        "functional_model = Model(inputs=input_layer, outputs=predictions)"
      ],
      "execution_count": 7,
      "outputs": []
    },
    {
      "cell_type": "code",
      "metadata": {
        "id": "5MmNOcVhPxVX",
        "colab_type": "code",
        "colab": {}
      },
      "source": [
        "class ClassModel(Model):\n",
        "  def __init__(self):\n",
        "    super(ClassModel, self).__init__() \n",
        "    self.dense_1 = Dense(256, activation='sigmoid') \n",
        "    self.dense_2 = Dense(256, activation='sigmoid') \n",
        "    self.predictions = Dense(10, activation='softmax') \n",
        "    \n",
        "  def call(self, inputs, **kwargs): \n",
        "    x = self.dense_1(inputs) \n",
        "    x = self.dense_2(x) \n",
        "    return self.predictions(x) \n",
        "class_model = ClassModel()"
      ],
      "execution_count": 10,
      "outputs": []
    },
    {
      "cell_type": "code",
      "metadata": {
        "id": "TYzFcWvVQfDq",
        "colab_type": "code",
        "colab": {
          "base_uri": "https://localhost:8080/",
          "height": 51
        },
        "outputId": "843119c0-51fd-4f26-cc5b-56380c1c8a2d"
      },
      "source": [
        "(X_train, y_train), (X_test, y_test) = mnist.load_data() \n",
        "X_train = X_train.reshape((X_train.shape[0], 28 * 28 * 1)) \n",
        "X_test = X_test.reshape((X_test.shape[0], 28 * 28 * 1)) \n",
        "X_train = X_train.astype('float32') / 255.0 \n",
        "X_test = X_test.astype('float32') / 255.0"
      ],
      "execution_count": 11,
      "outputs": [
        {
          "output_type": "stream",
          "text": [
            "Downloading data from https://storage.googleapis.com/tensorflow/tf-keras-datasets/mnist.npz\n",
            "11493376/11490434 [==============================] - 0s 0us/step\n"
          ],
          "name": "stdout"
        }
      ]
    },
    {
      "cell_type": "code",
      "metadata": {
        "id": "_29veag5Qsd_",
        "colab_type": "code",
        "colab": {}
      },
      "source": [
        "label_binarizer = LabelBinarizer() \n",
        "y_train = label_binarizer.fit_transform(y_train) \n",
        "y_test = label_binarizer.fit_transform(y_test)"
      ],
      "execution_count": 12,
      "outputs": []
    },
    {
      "cell_type": "code",
      "metadata": {
        "id": "VEJuso1XQxvs",
        "colab_type": "code",
        "colab": {}
      },
      "source": [
        "X_train, X_valid, y_train, y_valid = train_test_split(X_train, y_train, train_size=0.8)"
      ],
      "execution_count": 13,
      "outputs": []
    },
    {
      "cell_type": "code",
      "metadata": {
        "id": "BeOorUL4Q61R",
        "colab_type": "code",
        "colab": {
          "base_uri": "https://localhost:8080/",
          "height": 357
        },
        "outputId": "33fc3e46-4274-4370-ef21-5b97d4bab902"
      },
      "source": [
        "models = { \n",
        "    'sequential_model': sequential_model, \n",
        "    'sequential_model_list': sequential_model_list, \n",
        "    'functional_model': functional_model, \n",
        "    'class_model': class_model \n",
        "    } \n",
        "\n",
        "for name, model in models.items(): \n",
        "  print(f'Compiling model: {name}') \n",
        "  model.compile(loss='categorical_crossentropy', optimizer='adam', metrics=['accuracy']) \n",
        "  print(f'Training model: {name}') \n",
        "  model.fit(X_train, y_train, validation_data=(X_valid, y_valid), epochs=50, batch_size=256, verbose=0) \n",
        "  accuracy = model.evaluate(X_test, y_test, verbose=0) \n",
        "  print(f'Testing model: {name}. \\nAccuracy: {accuracy}') \n",
        "  print('---')"
      ],
      "execution_count": 19,
      "outputs": [
        {
          "output_type": "stream",
          "text": [
            "Compiling model: sequential_model\n",
            "Training model: sequential_model\n",
            "Testing model: sequential_model. \n",
            "Accuracy: [0.08860746771097183, 0.9799000024795532]\n",
            "---\n",
            "Compiling model: sequential_model_list\n",
            "Training model: sequential_model_list\n",
            "Testing model: sequential_model_list. \n",
            "Accuracy: [0.08850838989019394, 0.9801999926567078]\n",
            "---\n",
            "Compiling model: functional_model\n",
            "Training model: functional_model\n",
            "Testing model: functional_model. \n",
            "Accuracy: [0.09016171842813492, 0.9796000123023987]\n",
            "---\n",
            "Compiling model: class_model\n",
            "Training model: class_model\n",
            "Testing model: class_model. \n",
            "Accuracy: [0.09566514194011688, 0.9790999889373779]\n",
            "---\n"
          ],
          "name": "stdout"
        }
      ]
    }
  ]
}